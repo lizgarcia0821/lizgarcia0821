{
 "cells": [
  {
   "cell_type": "markdown",
   "id": "4cae2654-c49b-4d1c-ad2b-727629c7f89e",
   "metadata": {},
   "source": [
    "# Garsia_intro"
   ]
  },
  {
   "cell_type": "markdown",
   "id": "ff6ce17f-150e-4839-9ea7-e4eb3e1d367e",
   "metadata": {},
   "source": [
    "## Elizabeth"
   ]
  },
  {
   "cell_type": "code",
   "execution_count": 2,
   "id": "fdb7d174-a87d-4a54-a0a3-3a0e7b068db1",
   "metadata": {},
   "outputs": [],
   "source": [
    "import random"
   ]
  },
  {
   "cell_type": "code",
   "execution_count": 3,
   "id": "576768e4-faf5-46f6-a4af-71a1364f61fd",
   "metadata": {},
   "outputs": [],
   "source": [
    "nums = [random.randint(30, 100) for _ in range(40)]"
   ]
  },
  {
   "cell_type": "code",
   "execution_count": 4,
   "id": "912e6770-2803-4090-9f13-26f55f0d32ae",
   "metadata": {},
   "outputs": [
    {
     "name": "stdout",
     "output_type": "stream",
     "text": [
      "[60, 49, 98, 66, 37, 87, 40, 40, 66, 32, 42, 52, 36, 79, 80, 70, 48, 88, 76, 38, 85, 34, 66, 86, 78, 69, 48, 73, 43, 96, 67, 84, 59, 95, 79, 51, 43, 41, 75, 34]\n"
     ]
    }
   ],
   "source": [
    "print(nums)"
   ]
  },
  {
   "cell_type": "code",
   "execution_count": 5,
   "id": "3abb183d-07ac-437d-be76-f57bcc8f1bd5",
   "metadata": {},
   "outputs": [],
   "source": [
    "nums.sort()"
   ]
  },
  {
   "cell_type": "code",
   "execution_count": 9,
   "id": "b9bfb174-5df8-48f4-bba9-e5d8d2ddf269",
   "metadata": {},
   "outputs": [
    {
     "name": "stdout",
     "output_type": "stream",
     "text": [
      "32 34 34 36 37 38 40 40 41 42 43 43 48 48 49 51 52 59 60 66 66 66 67 69 70 73 75 76 78 79 79 80 84 85 86 87 88 95 96 98 "
     ]
    }
   ],
   "source": [
    "for num in nums:\n",
    "    print(num, end=' ')"
   ]
  },
  {
   "cell_type": "markdown",
   "id": "b3fa8e6a-15b7-4368-a6fb-30f415663ee1",
   "metadata": {},
   "source": [
    "## The Sample Mean"
   ]
  },
  {
   "cell_type": "markdown",
   "id": "59b8fe5d-e4c0-4dfa-8ad8-aab7a8b4376b",
   "metadata": {},
   "source": [
    "- Add all the values in the sample."
   ]
  },
  {
   "cell_type": "markdown",
   "id": "0eb05482-68b1-46d8-add5-06bbe213b010",
   "metadata": {},
   "source": [
    "- Divide the total sum by the number of values in the sample."
   ]
  },
  {
   "cell_type": "markdown",
   "id": "c58a128d-e6cf-4b02-98ce-c8bc7f3f27e8",
   "metadata": {},
   "source": [
    "$\\bar{x}=\\frac{\\sum x}{n}$"
   ]
  },
  {
   "cell_type": "code",
   "execution_count": 10,
   "id": "b8c3b1fd-bcf2-4ec5-8036-ad41db03a75c",
   "metadata": {},
   "outputs": [],
   "source": [
    "Sample_Mean = sum(nums) / len(nums)"
   ]
  },
  {
   "cell_type": "code",
   "execution_count": 11,
   "id": "8cfea9ac-82dd-4fa1-bf8a-9d852f10785f",
   "metadata": {},
   "outputs": [
    {
     "name": "stdout",
     "output_type": "stream",
     "text": [
      "The sample mean is: 62.25\n"
     ]
    }
   ],
   "source": [
    "print(f\"The sample mean is: {Sample_Mean:.2f}\")"
   ]
  },
  {
   "cell_type": "markdown",
   "id": "c7e36f95-e47a-48bc-b820-c48dcacc18b7",
   "metadata": {},
   "source": [
    "## The Median"
   ]
  },
  {
   "cell_type": "markdown",
   "id": "78477ecf-5975-45e3-aefb-636e0151c0ba",
   "metadata": {},
   "source": [
    "[Statistical Median Definition](https://www.techtarget.com/searchdatacenter/definition/statistical-mean-median-mode-and-range)"
   ]
  },
  {
   "cell_type": "code",
   "execution_count": 12,
   "id": "4b2cc171-48db-4110-bb39-022ef6def9c0",
   "metadata": {},
   "outputs": [],
   "source": [
    "# When the number of values is even, the median is calculated by taking the average of the two middle values.\n"
   ]
  },
  {
   "cell_type": "code",
   "execution_count": 13,
   "id": "6bd53d48-4877-4fe4-83a9-b647b2ab16b7",
   "metadata": {},
   "outputs": [],
   "source": [
    "nums.sort()"
   ]
  },
  {
   "cell_type": "code",
   "execution_count": 16,
   "id": "ee0d742a-787e-4da9-92bf-f2b892dce34b",
   "metadata": {},
   "outputs": [],
   "source": [
    "median = (nums[len(nums)//2 - 1] + nums[len(nums)//2]) / 2\n"
   ]
  },
  {
   "cell_type": "code",
   "execution_count": 17,
   "id": "9f0040c9-2d0a-4f6e-92e7-069b9d07e823",
   "metadata": {},
   "outputs": [
    {
     "name": "stdout",
     "output_type": "stream",
     "text": [
      "The median is: 66.0\n"
     ]
    }
   ],
   "source": [
    "print(f\"The median is: {median:.1f}\")"
   ]
  },
  {
   "cell_type": "code",
   "execution_count": null,
   "id": "75584eac-2947-44d4-88c3-cd61ec08aecd",
   "metadata": {},
   "outputs": [],
   "source": []
  }
 ],
 "metadata": {
  "kernelspec": {
   "display_name": "Python 3 (ipykernel)",
   "language": "python",
   "name": "python3"
  },
  "language_info": {
   "codemirror_mode": {
    "name": "ipython",
    "version": 3
   },
   "file_extension": ".py",
   "mimetype": "text/x-python",
   "name": "python",
   "nbconvert_exporter": "python",
   "pygments_lexer": "ipython3",
   "version": "3.11.7"
  }
 },
 "nbformat": 4,
 "nbformat_minor": 5
}
