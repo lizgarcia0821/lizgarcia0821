{
 "cells": [
  {
   "cell_type": "markdown",
   "id": "5381806b-dfc2-416e-8750-6633377d9f2c",
   "metadata": {},
   "source": [
    "# CHAPTER 10 - SIMPLE LINEAR REGRESSION"
   ]
  },
  {
   "cell_type": "markdown",
   "id": "02108fec-3f9d-4237-9365-0640b8444ffd",
   "metadata": {},
   "source": [
    "## By Elizabeth Garsia"
   ]
  },
  {
   "cell_type": "markdown",
   "id": "b4e8d7cc-8004-4572-9c5c-f81bc4b41e8c",
   "metadata": {},
   "source": [
    "## What does a Simple Linear Regression Model do?"
   ]
  },
  {
   "cell_type": "markdown",
   "id": "b28226a4-4896-48a6-9b76-c874ea24220a",
   "metadata": {},
   "source": [
    "#### A Simple Linear Regression Model predicts the relationship between two variables by fitting a linear equation to observed data. Specifically, it aims to model the relationship between a dependent variable and one independant variable by estimating the coefficiants of the linear equation.This allows to make predicitions about the dependant variable based on new values of the independant variable."
   ]
  },
  {
   "cell_type": "code",
   "execution_count": 2,
   "id": "485c5e46-fc2c-43be-9074-0d999d175058",
   "metadata": {},
   "outputs": [],
   "source": [
    "import pandas as pd\n",
    "import seaborn as sns\n",
    "from sklearn.linear_model import LinearRegression\n",
    "from sklearn.model_selection import train_test_split"
   ]
  },
  {
   "cell_type": "code",
   "execution_count": 3,
   "id": "def5c891-8f28-45c3-92dc-ce233969b72f",
   "metadata": {},
   "outputs": [],
   "source": [
    "data = sns.load_dataset('diamonds')"
   ]
  },
  {
   "cell_type": "code",
   "execution_count": 4,
   "id": "dc91be96-96e6-4f39-a54c-b3db147fff84",
   "metadata": {},
   "outputs": [
    {
     "data": {
      "text/html": [
       "<div>\n",
       "<style scoped>\n",
       "    .dataframe tbody tr th:only-of-type {\n",
       "        vertical-align: middle;\n",
       "    }\n",
       "\n",
       "    .dataframe tbody tr th {\n",
       "        vertical-align: top;\n",
       "    }\n",
       "\n",
       "    .dataframe thead th {\n",
       "        text-align: right;\n",
       "    }\n",
       "</style>\n",
       "<table border=\"1\" class=\"dataframe\">\n",
       "  <thead>\n",
       "    <tr style=\"text-align: right;\">\n",
       "      <th></th>\n",
       "      <th>carat</th>\n",
       "      <th>cut</th>\n",
       "      <th>color</th>\n",
       "      <th>clarity</th>\n",
       "      <th>depth</th>\n",
       "      <th>table</th>\n",
       "      <th>price</th>\n",
       "      <th>x</th>\n",
       "      <th>y</th>\n",
       "      <th>z</th>\n",
       "    </tr>\n",
       "  </thead>\n",
       "  <tbody>\n",
       "    <tr>\n",
       "      <th>0</th>\n",
       "      <td>0.23</td>\n",
       "      <td>Ideal</td>\n",
       "      <td>E</td>\n",
       "      <td>SI2</td>\n",
       "      <td>61.5</td>\n",
       "      <td>55.0</td>\n",
       "      <td>326</td>\n",
       "      <td>3.95</td>\n",
       "      <td>3.98</td>\n",
       "      <td>2.43</td>\n",
       "    </tr>\n",
       "    <tr>\n",
       "      <th>1</th>\n",
       "      <td>0.21</td>\n",
       "      <td>Premium</td>\n",
       "      <td>E</td>\n",
       "      <td>SI1</td>\n",
       "      <td>59.8</td>\n",
       "      <td>61.0</td>\n",
       "      <td>326</td>\n",
       "      <td>3.89</td>\n",
       "      <td>3.84</td>\n",
       "      <td>2.31</td>\n",
       "    </tr>\n",
       "    <tr>\n",
       "      <th>2</th>\n",
       "      <td>0.23</td>\n",
       "      <td>Good</td>\n",
       "      <td>E</td>\n",
       "      <td>VS1</td>\n",
       "      <td>56.9</td>\n",
       "      <td>65.0</td>\n",
       "      <td>327</td>\n",
       "      <td>4.05</td>\n",
       "      <td>4.07</td>\n",
       "      <td>2.31</td>\n",
       "    </tr>\n",
       "    <tr>\n",
       "      <th>3</th>\n",
       "      <td>0.29</td>\n",
       "      <td>Premium</td>\n",
       "      <td>I</td>\n",
       "      <td>VS2</td>\n",
       "      <td>62.4</td>\n",
       "      <td>58.0</td>\n",
       "      <td>334</td>\n",
       "      <td>4.20</td>\n",
       "      <td>4.23</td>\n",
       "      <td>2.63</td>\n",
       "    </tr>\n",
       "    <tr>\n",
       "      <th>4</th>\n",
       "      <td>0.31</td>\n",
       "      <td>Good</td>\n",
       "      <td>J</td>\n",
       "      <td>SI2</td>\n",
       "      <td>63.3</td>\n",
       "      <td>58.0</td>\n",
       "      <td>335</td>\n",
       "      <td>4.34</td>\n",
       "      <td>4.35</td>\n",
       "      <td>2.75</td>\n",
       "    </tr>\n",
       "  </tbody>\n",
       "</table>\n",
       "</div>"
      ],
      "text/plain": [
       "   carat      cut color clarity  depth  table  price     x     y     z\n",
       "0   0.23    Ideal     E     SI2   61.5   55.0    326  3.95  3.98  2.43\n",
       "1   0.21  Premium     E     SI1   59.8   61.0    326  3.89  3.84  2.31\n",
       "2   0.23     Good     E     VS1   56.9   65.0    327  4.05  4.07  2.31\n",
       "3   0.29  Premium     I     VS2   62.4   58.0    334  4.20  4.23  2.63\n",
       "4   0.31     Good     J     SI2   63.3   58.0    335  4.34  4.35  2.75"
      ]
     },
     "execution_count": 4,
     "metadata": {},
     "output_type": "execute_result"
    }
   ],
   "source": [
    "data.head()"
   ]
  },
  {
   "cell_type": "markdown",
   "id": "bfc026c4-f1a7-48c7-ab00-32670c1528f2",
   "metadata": {},
   "source": [
    "## Pearson Correlation Coefficient (r-value)\n",
    "\n",
    "- The Pearson correlation coefficient (r-value) measures the strength and direction of the linear relationship between two variables.\n",
    "- Its possible range of values is from -1 to 1.\n",
    "- An r-value close to 1 indicates a strong positive correlation, meaning that as one variable increases, the other variable also tends to increase.\n",
    "- An r-value close to -1 indicates a strong negative correlation, meaning that as one variable increases, the other variable tends to decrease.\n",
    "- An r-value close to 0 indicates no linear correlation between the variables.\n"
   ]
  },
  {
   "cell_type": "code",
   "execution_count": 6,
   "id": "3eca554d-f27e-4174-b515-1f8e0fd3d1fb",
   "metadata": {},
   "outputs": [
    {
     "data": {
      "text/html": [
       "<div>\n",
       "<style scoped>\n",
       "    .dataframe tbody tr th:only-of-type {\n",
       "        vertical-align: middle;\n",
       "    }\n",
       "\n",
       "    .dataframe tbody tr th {\n",
       "        vertical-align: top;\n",
       "    }\n",
       "\n",
       "    .dataframe thead th {\n",
       "        text-align: right;\n",
       "    }\n",
       "</style>\n",
       "<table border=\"1\" class=\"dataframe\">\n",
       "  <thead>\n",
       "    <tr style=\"text-align: right;\">\n",
       "      <th></th>\n",
       "      <th>carat</th>\n",
       "      <th>depth</th>\n",
       "      <th>table</th>\n",
       "      <th>price</th>\n",
       "      <th>x</th>\n",
       "      <th>y</th>\n",
       "      <th>z</th>\n",
       "    </tr>\n",
       "  </thead>\n",
       "  <tbody>\n",
       "    <tr>\n",
       "      <th>carat</th>\n",
       "      <td>1.000000</td>\n",
       "      <td>0.028224</td>\n",
       "      <td>0.181618</td>\n",
       "      <td>0.921591</td>\n",
       "      <td>0.975094</td>\n",
       "      <td>0.951722</td>\n",
       "      <td>0.953387</td>\n",
       "    </tr>\n",
       "    <tr>\n",
       "      <th>depth</th>\n",
       "      <td>0.028224</td>\n",
       "      <td>1.000000</td>\n",
       "      <td>-0.295779</td>\n",
       "      <td>-0.010647</td>\n",
       "      <td>-0.025289</td>\n",
       "      <td>-0.029341</td>\n",
       "      <td>0.094924</td>\n",
       "    </tr>\n",
       "    <tr>\n",
       "      <th>table</th>\n",
       "      <td>0.181618</td>\n",
       "      <td>-0.295779</td>\n",
       "      <td>1.000000</td>\n",
       "      <td>0.127134</td>\n",
       "      <td>0.195344</td>\n",
       "      <td>0.183760</td>\n",
       "      <td>0.150929</td>\n",
       "    </tr>\n",
       "    <tr>\n",
       "      <th>price</th>\n",
       "      <td>0.921591</td>\n",
       "      <td>-0.010647</td>\n",
       "      <td>0.127134</td>\n",
       "      <td>1.000000</td>\n",
       "      <td>0.884435</td>\n",
       "      <td>0.865421</td>\n",
       "      <td>0.861249</td>\n",
       "    </tr>\n",
       "    <tr>\n",
       "      <th>x</th>\n",
       "      <td>0.975094</td>\n",
       "      <td>-0.025289</td>\n",
       "      <td>0.195344</td>\n",
       "      <td>0.884435</td>\n",
       "      <td>1.000000</td>\n",
       "      <td>0.974701</td>\n",
       "      <td>0.970772</td>\n",
       "    </tr>\n",
       "    <tr>\n",
       "      <th>y</th>\n",
       "      <td>0.951722</td>\n",
       "      <td>-0.029341</td>\n",
       "      <td>0.183760</td>\n",
       "      <td>0.865421</td>\n",
       "      <td>0.974701</td>\n",
       "      <td>1.000000</td>\n",
       "      <td>0.952006</td>\n",
       "    </tr>\n",
       "    <tr>\n",
       "      <th>z</th>\n",
       "      <td>0.953387</td>\n",
       "      <td>0.094924</td>\n",
       "      <td>0.150929</td>\n",
       "      <td>0.861249</td>\n",
       "      <td>0.970772</td>\n",
       "      <td>0.952006</td>\n",
       "      <td>1.000000</td>\n",
       "    </tr>\n",
       "  </tbody>\n",
       "</table>\n",
       "</div>"
      ],
      "text/plain": [
       "          carat     depth     table     price         x         y         z\n",
       "carat  1.000000  0.028224  0.181618  0.921591  0.975094  0.951722  0.953387\n",
       "depth  0.028224  1.000000 -0.295779 -0.010647 -0.025289 -0.029341  0.094924\n",
       "table  0.181618 -0.295779  1.000000  0.127134  0.195344  0.183760  0.150929\n",
       "price  0.921591 -0.010647  0.127134  1.000000  0.884435  0.865421  0.861249\n",
       "x      0.975094 -0.025289  0.195344  0.884435  1.000000  0.974701  0.970772\n",
       "y      0.951722 -0.029341  0.183760  0.865421  0.974701  1.000000  0.952006\n",
       "z      0.953387  0.094924  0.150929  0.861249  0.970772  0.952006  1.000000"
      ]
     },
     "execution_count": 6,
     "metadata": {},
     "output_type": "execute_result"
    }
   ],
   "source": [
    "numeric_data = data.select_dtypes(include=['number'])\n",
    "correlation_matrix = numeric_data.corr()\n",
    "correlation_matrix.head(7)\n",
    "\n"
   ]
  },
  {
   "cell_type": "code",
   "execution_count": 66,
   "id": "852a89d5-2f3a-4d15-b580-27e4e903e18f",
   "metadata": {},
   "outputs": [
    {
     "data": {
      "text/plain": [
       "Text(0.5, 1.0, 'Correlation Heatmap for Price Column (Top Correlated)')"
      ]
     },
     "execution_count": 66,
     "metadata": {},
     "output_type": "execute_result"
    },
    {
     "data": {
      "image/png": "[encoded data removed]",
      "text/plain": [
       "<Figure size 1000x600 with 1 Axes>"
      ]
     },
     "metadata": {},
     "output_type": "display_data"
    }
   ],
   "source": [
    "numeric_data = data.select_dtypes(include=['number'])\n",
    "\n",
    "correlation_matrix = numeric_data.corr()\n",
    "\n",
    "price_correlation = correlation_matrix['price'].sort_values(ascending=False)\n",
    "\n",
    "top_correlated_columns = price_correlation.index[1:]\n",
    "\n",
    "top_correlation_matrix = correlation_matrix.loc[top_correlated_columns, top_correlated_columns]\n",
    "\n",
    "sns.set(font_scale=1) \n",
    "heatmap = sns.heatmap(top_correlation_matrix, annot=True, fmt=\".3f\", cmap='coolwarm', cbar=False)\n",
    "heatmap.set_title('Correlation Heatmap for Price Column (Top Correlated)')\n",
    "\n"
   ]
  },
  {
   "cell_type": "markdown",
   "id": "155bdff8-e850-4516-9ddc-7c73445929d2",
   "metadata": {},
   "source": [
    "## Procedure for Creating and Using a Regression Model\n",
    "\n",
    "1. Data Preparation:\n",
    "   - Gather the relevant data needed for the regression analysis.\n",
    "   - Preprocess the data by handling missing values, encoding categorical variables, and scaling numeric features if necessary.\n",
    "\n",
    "2. Model Selection and Training:\n",
    "   - Choose a suitable regression model based on the problem requirements and data characteristics.\n",
    "   - Split the data into training and testing sets.\n",
    "   - Train the regression model using the training data.\n",
    "\n",
    "3. Model Evaluation:\n",
    "   - Evaluate the performance of the trained model using appropriate evaluation metrics such as mean squared error, R-squared, or others.\n",
    "   - Analyze the model's performance to identify any shortcomings or areas for improvement.\n",
    "\n",
    "4. Model Deployment and Usage:\n",
    "   - Deploy the trained regression model in a production environment if applicable.\n",
    "   - Utilize the deployed model to make predictions on new or unseen data.\n"
   ]
  },
  {
   "cell_type": "code",
   "execution_count": 16,
   "id": "8bd59aa2-887f-44f1-a3dd-2ee8d30edc22",
   "metadata": {},
   "outputs": [],
   "source": [
    "from sklearn.linear_model import LinearRegression\n",
    "from sklearn.model_selection import train_test_split\n"
   ]
  },
  {
   "cell_type": "code",
   "execution_count": 19,
   "id": "d8cf3323-34b7-49b4-8fa6-f999e6235815",
   "metadata": {},
   "outputs": [],
   "source": [
    "strongest_correlation_column = price_correlation.index[1]\n",
    "\n",
    "X = data[[strongest_correlation_column]]  \n",
    "y = data['price']  \n",
    "\n",
    "X_train, X_test, y_train, y_test = train_test_split(X, y, test_size=0.3, random_state=20)\n",
    "\n"
   ]
  },
  {
   "cell_type": "code",
   "execution_count": 21,
   "id": "77d4119d-4f9e-4249-b696-ca94c5113d87",
   "metadata": {},
   "outputs": [
    {
     "name": "stdout",
     "output_type": "stream",
     "text": [
      "LinearRegression()\n"
     ]
    }
   ],
   "source": [
    "model = LinearRegression()\n",
    "\n",
    "print(model)\n"
   ]
  },
  {
   "cell_type": "code",
   "execution_count": 24,
   "id": "0abd2f23-45e2-492b-9bff-b7793b29fe14",
   "metadata": {},
   "outputs": [
    {
     "name": "stdout",
     "output_type": "stream",
     "text": [
      "LinearRegression()\n"
     ]
    }
   ],
   "source": [
    "model.fit(X_train, y_train)\n",
    "\n",
    "print(model)\n"
   ]
  },
  {
   "cell_type": "code",
   "execution_count": 27,
   "id": "995cfcf2-3aa5-4b2e-b0b4-9e2da0b9fe92",
   "metadata": {},
   "outputs": [
    {
     "name": "stdout",
     "output_type": "stream",
     "text": [
      "0.8504107786474794\n"
     ]
    }
   ],
   "source": [
    "score = model.score(X_test, y_test)\n",
    "\n",
    "print(score)\n"
   ]
  },
  {
   "cell_type": "code",
   "execution_count": 31,
   "id": "7ddfb29a-50a4-4b11-acc4-1319e5c65fa8",
   "metadata": {},
   "outputs": [
    {
     "name": "stdout",
     "output_type": "stream",
     "text": [
      "array([[ [9540.64191438 1940.07543252 3180.98424589 ... 9618.19871522 -464.18539337\n",
      " 5507.68827094] ]]\n"
     ]
    }
   ],
   "source": [
    "y_pred = model.predict(X_test)\n",
    "\n",
    "\n",
    "print(\"array([[\", y_pred, \"]]\")\n",
    "\n"
   ]
  },
  {
   "cell_type": "code",
   "execution_count": 34,
   "id": "4e92e038-263b-4067-9573-91a61e449e8e",
   "metadata": {},
   "outputs": [
    {
     "name": "stdout",
     "output_type": "stream",
     "text": [
      "   predicted_price\n",
      "0      9540.641914\n",
      "1      1940.075433\n",
      "2      3180.984246\n"
     ]
    }
   ],
   "source": [
    "predicted_df = pd.DataFrame(y_pred, columns=['predicted_price'])\n",
    "\n",
    "print(predicted_df.head(3))\n"
   ]
  },
  {
   "cell_type": "code",
   "execution_count": 37,
   "id": "5ed4a170-1bb9-4aae-9fc1-511990b04e2e",
   "metadata": {},
   "outputs": [
    {
     "name": "stdout",
     "output_type": "stream",
     "text": [
      "   carat  price  predicted_price\n",
      "0   1.52    NaN      9540.641914\n",
      "1   0.54  326.0      1940.075433\n",
      "2   0.70    NaN      3180.984246\n",
      "3   0.59    NaN      2327.859437\n",
      "4   0.86    NaN      4421.893059\n"
     ]
    }
   ],
   "source": [
    "y_test_df = pd.DataFrame(y_test, columns=['price'])\n",
    "predicted_df = pd.DataFrame(y_pred, columns=['predicted_price'])\n",
    "\n",
    "joined_df = pd.concat([X_test.reset_index(drop=True), y_test_df, predicted_df], axis=1)\n",
    "\n",
    "print(joined_df.head(5))\n"
   ]
  },
  {
   "cell_type": "code",
   "execution_count": 41,
   "id": "cfe07034-d6a9-42e2-8474-fc21c2bedd7d",
   "metadata": {},
   "outputs": [
    {
     "name": "stdout",
     "output_type": "stream",
     "text": [
      "             pric_type  price_value\n",
      "0                price          NaN\n",
      "1                price        326.0\n",
      "2                price          NaN\n",
      "3                price          NaN\n",
      "4                price          NaN\n",
      "...                ...          ...\n",
      "54997  predicted_price          NaN\n",
      "54998  predicted_price          NaN\n",
      "54999  predicted_price          NaN\n",
      "55000  predicted_price          NaN\n",
      "55001  predicted_price          NaN\n",
      "\n",
      "[55002 rows x 2 columns]\n"
     ]
    }
   ],
   "source": [
    "melted_df = pd.melt(joined_df, value_vars=['price', 'predicted_price'], var_name='pric_type', value_name='price_value')\n",
    "\n",
    "print(melted_df)\n"
   ]
  },
  {
   "cell_type": "code",
   "execution_count": 50,
   "id": "b22485fe-882d-4913-96f0-80e1cd6bdcc5",
   "metadata": {},
   "outputs": [
    {
     "name": "stderr",
     "output_type": "stream",
     "text": [
      "/var/folders/r_/jsr48d0111n_h7_hg__c4lqm0000gn/T/ipykernel_77837/2567525944.py:4: FutureWarning: \n",
      "\n",
      "The `ci` parameter is deprecated. Use `errorbar=None` for the same effect.\n",
      "\n",
      "  sns.lineplot(data=joined_df, x='carat', y='predicted_price', ci=None)\n",
      "/opt/anaconda3/lib/python3.11/site-packages/seaborn/_oldcore.py:1119: FutureWarning: use_inf_as_na option is deprecated and will be removed in a future version. Convert inf values to NaN before operating instead.\n",
      "  with pd.option_context('mode.use_inf_as_na', True):\n",
      "/opt/anaconda3/lib/python3.11/site-packages/seaborn/_oldcore.py:1119: FutureWarning: use_inf_as_na option is deprecated and will be removed in a future version. Convert inf values to NaN before operating instead.\n",
      "  with pd.option_context('mode.use_inf_as_na', True):\n"
     ]
    },
    {
     "ename": "AttributeError",
     "evalue": "module 'seaborn' has no attribute 'set_title'",
     "output_type": "error",
     "traceback": [
      "\u001b[0;31m---------------------------------------------------------------------------\u001b[0m",
      "\u001b[0;31mAttributeError\u001b[0m                            Traceback (most recent call last)",
      "Cell \u001b[0;32mIn[50], line 7\u001b[0m\n\u001b[1;32m      4\u001b[0m sns\u001b[38;5;241m.\u001b[39mlineplot(data\u001b[38;5;241m=\u001b[39mjoined_df, x\u001b[38;5;241m=\u001b[39m\u001b[38;5;124m'\u001b[39m\u001b[38;5;124mcarat\u001b[39m\u001b[38;5;124m'\u001b[39m, y\u001b[38;5;241m=\u001b[39m\u001b[38;5;124m'\u001b[39m\u001b[38;5;124mpredicted_price\u001b[39m\u001b[38;5;124m'\u001b[39m, ci\u001b[38;5;241m=\u001b[39m\u001b[38;5;28;01mNone\u001b[39;00m)\n\u001b[1;32m      6\u001b[0m \u001b[38;5;66;03m# Set the title and labels\u001b[39;00m\n\u001b[0;32m----> 7\u001b[0m sns\u001b[38;5;241m.\u001b[39mset_title(\u001b[38;5;124m'\u001b[39m\u001b[38;5;124mPredicted Price vs. Carat\u001b[39m\u001b[38;5;124m'\u001b[39m)\n\u001b[1;32m      8\u001b[0m sns\u001b[38;5;241m.\u001b[39mset_xlabel(\u001b[38;5;124m'\u001b[39m\u001b[38;5;124mCarat\u001b[39m\u001b[38;5;124m'\u001b[39m)\n\u001b[1;32m      9\u001b[0m sns\u001b[38;5;241m.\u001b[39mset_ylabel(\u001b[38;5;124m'\u001b[39m\u001b[38;5;124mPredicted Price\u001b[39m\u001b[38;5;124m'\u001b[39m)\n",
      "\u001b[0;31mAttributeError\u001b[0m: module 'seaborn' has no attribute 'set_title'"
     ]
    },
    {
     "data": {
      "image/png": "[encoded data removed]",
      "text/plain": [
       "<Figure size 640x480 with 1 Axes>"
      ]
     },
     "metadata": {},
     "output_type": "display_data"
    }
   ],
   "source": [
    "import seaborn as sns\n",
    "\n",
    "sns.lineplot(data=joined_df, x='carat', y='predicted_price', ci=None)\n",
    "\n",
    "sns.set_title('Predicted Price vs. Carat')\n",
    "sns.set_xlabel('Carat')\n",
    "sns.set_ylabel('Predicted Price')\n",
    "\n",
    "sns.show()\n"
   ]
  },
  {
   "cell_type": "markdown",
   "id": "1c134e6c-1781-4a11-b4a8-ff02faf6e5b3",
   "metadata": {},
   "source": [
    "## Regression Line Equation\n",
    "\n",
    "The regression line equation is **y = mx + b**, where:\n",
    "\n",
    "- **y** is the **dependent** variable \n",
    "- **m** is the **slope** of the line\n",
    "- **x** is the **independent** variable\n",
    "- **b** is the **Y-intercept**\n"
   ]
  },
  {
   "cell_type": "code",
   "execution_count": 56,
   "id": "0c405f5f-dde5-48bd-9d3d-99ca9585b630",
   "metadata": {},
   "outputs": [],
   "source": [
    "X = data.carat.values.reshape(-1,1)\n",
    "y = data.price\n"
   ]
  },
  {
   "cell_type": "code",
   "execution_count": 57,
   "id": "c52227f8-ea35-4211-8103-4bfe28c1170b",
   "metadata": {},
   "outputs": [],
   "source": [
    "lr = LinearRegression()\n",
    "predicted = lr.fit(X,y)\n"
   ]
  },
  {
   "cell_type": "code",
   "execution_count": 59,
   "id": "1c335b7c-c9d5-4278-b7fb-30be2ff597e6",
   "metadata": {},
   "outputs": [
    {
     "name": "stdout",
     "output_type": "stream",
     "text": [
      "Slope: [7756.42561797] , y-intercept is -2256.360580045403\n"
     ]
    }
   ],
   "source": [
    "m = predicted.coef_\n",
    "b = predicted.intercept_\n",
    "print(f'Slope: {m} , y-intercept is {b}')\n"
   ]
  },
  {
   "cell_type": "code",
   "execution_count": 61,
   "id": "c2eff812-f12f-484b-bf0c-c9c1a1218a09",
   "metadata": {},
   "outputs": [
    {
     "name": "stdout",
     "output_type": "stream",
     "text": [
      "Regression line equation is: y = 7756.425617968435 * x + -2256.360580045403\n"
     ]
    }
   ],
   "source": [
    "print(f'Regression line equation is: y = {m[0]} * x + {b}')\n"
   ]
  },
  {
   "cell_type": "code",
   "execution_count": 64,
   "id": "7bd0b650-e8d9-4e3f-bf80-b9424409b9be",
   "metadata": {},
   "outputs": [
    {
     "name": "stdout",
     "output_type": "stream",
     "text": [
      "The predicted price for a 0.7 carat diamond is $3173.14\n"
     ]
    }
   ],
   "source": [
    "carat = 0.70\n",
    "predicted_price = m[0] * carat + b\n",
    "print(f\"The predicted price for a {carat} carat diamond is ${predicted_price:.2f}\")\n"
   ]
  },
  {
   "cell_type": "code",
   "execution_count": 65,
   "id": "59ad137f-0f89-43cc-bc00-435ec461e870",
   "metadata": {},
   "outputs": [
    {
     "name": "stdout",
     "output_type": "stream",
     "text": [
      "The predicted price for a 0.54 carat diamond is $1932.11\n"
     ]
    }
   ],
   "source": [
    "carat = 0.54\n",
    "predicted_price = m[0] * carat + b\n",
    "print(f\"The predicted price for a {carat} carat diamond is ${predicted_price:.2f}\")\n"
   ]
  },
  {
   "cell_type": "markdown",
   "id": "a4fba204-dcc1-49b8-bf3e-23028c119e41",
   "metadata": {},
   "source": [
    "#### The prices are lower than the predicted resluts in step 18. "
   ]
  },
  {
   "cell_type": "code",
   "execution_count": null,
   "id": "526b99de-98e9-4efd-be8a-723cda5d22fa",
   "metadata": {},
   "outputs": [],
   "source": []
  }
 ],
 "metadata": {
  "kernelspec": {
   "display_name": "Python 3 (ipykernel)",
   "language": "python",
   "name": "python3"
  },
  "language_info": {
   "codemirror_mode": {
    "name": "ipython",
    "version": 3
   },
   "file_extension": ".py",
   "mimetype": "text/x-python",
   "name": "python",
   "nbconvert_exporter": "python",
   "pygments_lexer": "ipython3",
   "version": "3.11.7"
  }
 },
 "nbformat": 4,
 "nbformat_minor": 5
}
